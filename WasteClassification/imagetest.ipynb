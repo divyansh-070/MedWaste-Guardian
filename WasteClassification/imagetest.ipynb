{
 "cells": [
  {
   "cell_type": "code",
   "execution_count": null,
   "metadata": {},
   "outputs": [
    {
     "name": "stderr",
     "output_type": "stream",
     "text": [
      "/Users/devayushrout/Desktop/MedWaste Guardian/venv/lib/python3.9/site-packages/urllib3/__init__.py:35: NotOpenSSLWarning: urllib3 v2 only supports OpenSSL 1.1.1+, currently the 'ssl' module is compiled with 'LibreSSL 2.8.3'. See: https://github.com/urllib3/urllib3/issues/3020\n",
      "  warnings.warn(\n"
     ]
    },
    {
     "name": "stdout",
     "output_type": "stream",
     "text": [
      "\n",
      "image 1/1 /Users/devayushrout/Desktop/MedWaste Guardian/Dataset/images/test/RT-77-_jpg.rf.ca0a405e6944314b1e10f72152348c78.jpg: 640x640 3 IVtubes, 1 gloves, 200.5ms\n",
      "Speed: 2.9ms preprocess, 200.5ms inference, 6.5ms postprocess per image at shape (1, 3, 640, 640)\n"
     ]
    },
    {
     "name": "stderr",
     "output_type": "stream",
     "text": [
      "2025-03-21 13:34:05.769 Python[32713:651591] +[IMKClient subclass]: chose IMKClient_Modern\n",
      "2025-03-21 13:34:05.769 Python[32713:651591] +[IMKInputSession subclass]: chose IMKInputSession_Modern\n"
     ]
    }
   ],
   "source": [
    "from ultralytics import YOLO\n",
    "import cv2\n",
    "import torch\n",
    "\n",
    "# Load your trained model\n",
    "model = YOLO(\"/Users/devayushrout/Desktop/MedWaste Guardian/resultsyolov8/yolov8_medical_waste/weights/best.pt\")  # Replace 'best.pt' with your model's path\n",
    "\n",
    "# Load an image\n",
    "image_path = \"/Users/devayushrout/Desktop/MedWaste Guardian/Dataset/images/test/RT-77-_jpg.rf.ca0a405e6944314b1e10f72152348c78.jpg\"  # Replace with your image path\n",
    "results = model(image_path, conf=0.5)  # Run inference with confidence threshold\n",
    "\n",
    "# Show results\n",
    "for result in results:\n",
    "    img_with_boxes = result.plot()  # Draw bounding boxes\n",
    "    cv2.imshow(\"YOLOv8 Detection\", img_with_boxes)\n",
    "    cv2.waitKey(0)\n",
    "    cv2.destroyAllWindows()"
   ]
  },
  {
   "cell_type": "code",
   "execution_count": null,
   "metadata": {},
   "outputs": [],
   "source": []
  }
 ],
 "metadata": {
  "kernelspec": {
   "display_name": "venv",
   "language": "python",
   "name": "python3"
  },
  "language_info": {
   "codemirror_mode": {
    "name": "ipython",
    "version": 3
   },
   "file_extension": ".py",
   "mimetype": "text/x-python",
   "name": "python",
   "nbconvert_exporter": "python",
   "pygments_lexer": "ipython3",
   "version": "3.9.6"
  }
 },
 "nbformat": 4,
 "nbformat_minor": 2
}
