{
 "cells": [
  {
   "cell_type": "code",
   "execution_count": null,
   "metadata": {},
   "outputs": [
    {
     "name": "stderr",
     "output_type": "stream",
     "text": [
      "/Users/devayushrout/Desktop/MedWaste Guardian/venv/lib/python3.9/site-packages/urllib3/__init__.py:35: NotOpenSSLWarning: urllib3 v2 only supports OpenSSL 1.1.1+, currently the 'ssl' module is compiled with 'LibreSSL 2.8.3'. See: https://github.com/urllib3/urllib3/issues/3020\n",
      "  warnings.warn(\n"
     ]
    },
    {
     "name": "stdout",
     "output_type": "stream",
     "text": [
      "\n",
      "image 1/1 /Users/devayushrout/Desktop/MedWaste Guardian/WasteClassification/Dataset/images/test/vial-46-_jpg.rf.399fa1695c6ee15bbaa2bfdf7fcea472.jpg: 640x640 1 IVtube, 154.6ms\n",
      "Speed: 2.4ms preprocess, 154.6ms inference, 6.0ms postprocess per image at shape (1, 3, 640, 640)\n"
     ]
    },
    {
     "name": "stderr",
     "output_type": "stream",
     "text": [
      "2025-04-01 14:25:45.369 Python[24633:163209] +[IMKClient subclass]: chose IMKClient_Modern\n",
      "2025-04-01 14:25:45.369 Python[24633:163209] +[IMKInputSession subclass]: chose IMKInputSession_Modern\n"
     ]
    }
   ],
   "source": [
    "from ultralytics import YOLO\n",
    "import cv2\n",
    "import torch\n",
    "\n",
    "\n",
    "model = YOLO(\"/Users/devayushrout/Desktop/MedWaste Guardian/backend/models/yolov8_medical_waste_best.pt\")  \n",
    "image_path = \"/Users/devayushrout/Desktop/MedWaste Guardian/WasteClassification/Dataset/images/test/vial-46-_jpg.rf.399fa1695c6ee15bbaa2bfdf7fcea472.jpg\"  \n",
    "results = model(image_path, conf=0.5) \n",
    "\n",
    "# Show results\n",
    "for result in results:\n",
    "    img_with_boxes = result.plot() \n",
    "    cv2.imshow(\"YOLOv8 Detection\", img_with_boxes)\n",
    "    cv2.waitKey(0)\n",
    "    cv2.destroyAllWindows()"
   ]
  }
 ],
 "metadata": {
  "kernelspec": {
   "display_name": "venv",
   "language": "python",
   "name": "python3"
  },
  "language_info": {
   "codemirror_mode": {
    "name": "ipython",
    "version": 3
   },
   "file_extension": ".py",
   "mimetype": "text/x-python",
   "name": "python",
   "nbconvert_exporter": "python",
   "pygments_lexer": "ipython3",
   "version": "3.9.6"
  }
 },
 "nbformat": 4,
 "nbformat_minor": 2
}
